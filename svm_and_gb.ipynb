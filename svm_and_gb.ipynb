{
 "cells": [
  {
   "cell_type": "code",
   "execution_count": 54,
   "metadata": {
    "id": "9LYmk1WxuMe4"
   },
   "outputs": [],
   "source": [
    "import pandas as pd\n",
    "import numpy as np\n",
    "import sklearn\n",
    "from sklearn.model_selection import GridSearchCV\n",
    "from sklearn.ensemble import GradientBoostingClassifier\n",
    "from sklearn import svm\n",
    "from sklearn.metrics import roc_auc_score\n",
    "from sklearn.feature_extraction.text import TfidfVectorizer\n",
    "import matplotlib.pyplot as plt\n"
   ]
  },
  {
   "cell_type": "code",
   "execution_count": 6,
   "metadata": {
    "id": "b1ZO-T9zvgqn"
   },
   "outputs": [],
   "source": [
    "train = pd.read_csv('train.csv')\n",
    "val = pd.read_csv('val.csv')\n",
    "test = pd.read_csv('test.csv')\n",
    "\n",
    "train = train.dropna()\n",
    "test = test.dropna()\n",
    "val = val.dropna()\n",
    "\n",
    "y_train = train.target\n",
    "y_val = val.target\n",
    "y_test = test.target"
   ]
  },
  {
   "cell_type": "code",
   "execution_count": 7,
   "metadata": {
    "id": "zgEPC3gK6u1D"
   },
   "outputs": [],
   "source": [
    "my_stop_words = ['wa', 'would', 'ha', 'one', 'get']\n",
    "tfidfvectorizer = TfidfVectorizer(min_df = 0.001, ngram_range=(1, 2), stop_words=my_stop_words)\n",
    "tfidf_train = tfidfvectorizer.fit_transform(train.text)\n",
    "tfidf_val = tfidfvectorizer.transform(val.text)\n",
    "tfidf_test = tfidfvectorizer.transform(test.text)"
   ]
  },
  {
   "cell_type": "code",
   "execution_count": 17,
   "metadata": {
    "id": "35p7DD6CvoIL"
   },
   "outputs": [],
   "source": [
    "def binarize_target(target, thr):\n",
    "    return (target > thr).astype(int)\n",
    "\n",
    "\n",
    "def run_grid_search(est, param_grid, scoring, x_train, y_train, thr):\n",
    "    y_train_bin = binarize_target(y_train, thr)\n",
    "    model = GridSearchCV(estimator=est, param_grid=param_grid, scoring=scoring, cv=3, verbose=3)\n",
    "    model.fit(x_train, y_train_bin)\n",
    "    return model\n",
    "\n",
    "def evaluate(model, tfidf_x, y_bin):\n",
    "    return roc_auc_score(y_bin, model.predict(tfidf_x))"
   ]
  },
  {
   "cell_type": "code",
   "execution_count": 5,
   "metadata": {
    "id": "dsMzcYoXwqLJ"
   },
   "outputs": [],
   "source": [
    "grid = {'C': [1, 10], 'gamma': [0.001, 0.01, 1]}"
   ]
  },
  {
   "cell_type": "code",
   "execution_count": 30,
   "metadata": {
    "colab": {
     "base_uri": "https://localhost:8080/"
    },
    "id": "xmU0F1yG7SVs",
    "outputId": "ed321165-becf-4038-fbbc-255c719b395a"
   },
   "outputs": [
    {
     "name": "stdout",
     "output_type": "stream",
     "text": [
      "Fitting 3 folds for each of 6 candidates, totalling 18 fits\n",
      "[CV 1/3] END ..................C=1, gamma=0.001;, score=0.853 total time= 4.4min\n",
      "[CV 2/3] END ..................C=1, gamma=0.001;, score=0.856 total time= 4.1min\n",
      "[CV 3/3] END ..................C=1, gamma=0.001;, score=0.855 total time= 4.0min\n",
      "[CV 1/3] END ...................C=1, gamma=0.01;, score=0.869 total time= 3.9min\n",
      "[CV 2/3] END ...................C=1, gamma=0.01;, score=0.872 total time= 3.9min\n",
      "[CV 3/3] END ...................C=1, gamma=0.01;, score=0.872 total time= 3.9min\n",
      "[CV 1/3] END ......................C=1, gamma=1;, score=0.928 total time= 7.1min\n",
      "[CV 2/3] END ......................C=1, gamma=1;, score=0.928 total time= 7.0min\n",
      "[CV 3/3] END ......................C=1, gamma=1;, score=0.929 total time= 7.0min\n",
      "[CV 1/3] END .................C=10, gamma=0.001;, score=0.869 total time= 3.9min\n",
      "[CV 2/3] END .................C=10, gamma=0.001;, score=0.873 total time= 3.9min\n",
      "[CV 3/3] END .................C=10, gamma=0.001;, score=0.872 total time= 3.9min\n",
      "[CV 1/3] END ..................C=10, gamma=0.01;, score=0.927 total time= 2.8min\n",
      "[CV 2/3] END ..................C=10, gamma=0.01;, score=0.927 total time= 2.7min\n",
      "[CV 3/3] END ..................C=10, gamma=0.01;, score=0.929 total time= 2.8min\n",
      "[CV 1/3] END .....................C=10, gamma=1;, score=0.925 total time= 9.2min\n",
      "[CV 2/3] END .....................C=10, gamma=1;, score=0.926 total time= 9.2min\n",
      "[CV 3/3] END .....................C=10, gamma=1;, score=0.926 total time= 9.2min\n"
     ]
    }
   ],
   "source": [
    "SVC_point5 = run_grid_search(\n",
    "    est=svm.SVC(), \n",
    "    param_grid=grid,\n",
    "    scoring='roc_auc',\n",
    "    x_train=tfidf_train,\n",
    "    y_train=y_train,\n",
    "    thr=0.5\n",
    ")"
   ]
  },
  {
   "cell_type": "code",
   "execution_count": 31,
   "metadata": {
    "colab": {
     "base_uri": "https://localhost:8080/"
    },
    "id": "hQYQEnit8DpL",
    "outputId": "a2000bbe-ca0d-42f6-f409-d830f74cc7e3"
   },
   "outputs": [
    {
     "data": {
      "text/plain": [
       "{'C': 1, 'gamma': 1}"
      ]
     },
     "execution_count": 31,
     "metadata": {},
     "output_type": "execute_result"
    }
   ],
   "source": [
    "SVC_point5.best_params_"
   ]
  },
  {
   "cell_type": "code",
   "execution_count": 32,
   "metadata": {
    "colab": {
     "base_uri": "https://localhost:8080/"
    },
    "id": "mQ5jVLJZ8Po_",
    "outputId": "a4803e70-04ed-4e17-b93a-cd5f35a8c76e"
   },
   "outputs": [
    {
     "name": "stdout",
     "output_type": "stream",
     "text": [
      "Fitting 3 folds for each of 6 candidates, totalling 18 fits\n",
      "[CV 1/3] END ..................C=1, gamma=0.001;, score=0.854 total time= 2.5min\n",
      "[CV 2/3] END ..................C=1, gamma=0.001;, score=0.850 total time= 2.2min\n",
      "[CV 3/3] END ..................C=1, gamma=0.001;, score=0.846 total time= 2.2min\n",
      "[CV 1/3] END ...................C=1, gamma=0.01;, score=0.854 total time= 2.4min\n",
      "[CV 2/3] END ...................C=1, gamma=0.01;, score=0.850 total time= 2.3min\n",
      "[CV 3/3] END ...................C=1, gamma=0.01;, score=0.847 total time= 2.4min\n",
      "[CV 1/3] END ......................C=1, gamma=1;, score=0.858 total time= 6.5min\n",
      "[CV 2/3] END ......................C=1, gamma=1;, score=0.854 total time= 6.2min\n",
      "[CV 3/3] END ......................C=1, gamma=1;, score=0.853 total time= 6.4min\n",
      "[CV 1/3] END .................C=10, gamma=0.001;, score=0.854 total time= 2.3min\n",
      "[CV 2/3] END .................C=10, gamma=0.001;, score=0.850 total time= 2.3min\n",
      "[CV 3/3] END .................C=10, gamma=0.001;, score=0.847 total time= 2.3min\n",
      "[CV 1/3] END ..................C=10, gamma=0.01;, score=0.858 total time= 2.3min\n",
      "[CV 2/3] END ..................C=10, gamma=0.01;, score=0.855 total time= 2.3min\n",
      "[CV 3/3] END ..................C=10, gamma=0.01;, score=0.851 total time= 2.3min\n",
      "[CV 1/3] END .....................C=10, gamma=1;, score=0.848 total time= 9.9min\n",
      "[CV 2/3] END .....................C=10, gamma=1;, score=0.846 total time= 9.8min\n",
      "[CV 3/3] END .....................C=10, gamma=1;, score=0.845 total time= 9.8min\n"
     ]
    }
   ],
   "source": [
    "SVC_point6 = run_grid_search(\n",
    "    est=svm.SVC(), \n",
    "    param_grid=grid,\n",
    "    scoring='roc_auc',\n",
    "    x_train=tfidf_train,\n",
    "    y_train=y_train,\n",
    "    thr=0.6\n",
    ")"
   ]
  },
  {
   "cell_type": "code",
   "execution_count": 33,
   "metadata": {
    "colab": {
     "base_uri": "https://localhost:8080/"
    },
    "id": "sngPrj7C8P9a",
    "outputId": "a1923518-f498-4ef1-ff0f-5a25d2177133"
   },
   "outputs": [
    {
     "data": {
      "text/plain": [
       "{'C': 1, 'gamma': 1}"
      ]
     },
     "execution_count": 33,
     "metadata": {},
     "output_type": "execute_result"
    }
   ],
   "source": [
    "SVC_point6.best_params_"
   ]
  },
  {
   "cell_type": "code",
   "execution_count": null,
   "metadata": {
    "colab": {
     "base_uri": "https://localhost:8080/"
    },
    "id": "KdpQHve48P_k",
    "outputId": "6de38713-fb13-4155-e27f-af85795106ec"
   },
   "outputs": [
    {
     "name": "stdout",
     "output_type": "stream",
     "text": [
      "Fitting 3 folds for each of 6 candidates, totalling 18 fits\n",
      "[CV 1/3] END ..................C=1, gamma=0.001;, score=0.854 total time= 4.1min\n",
      "[CV 2/3] END ..................C=1, gamma=0.001;, score=0.857 total time= 4.1min\n",
      "[CV 3/3] END ..................C=1, gamma=0.001;, score=0.857 total time= 4.1min\n",
      "[CV 1/3] END ...................C=1, gamma=0.01;, score=0.869 total time= 4.0min\n",
      "[CV 2/3] END ...................C=1, gamma=0.01;, score=0.872 total time= 4.0min\n",
      "[CV 3/3] END ...................C=1, gamma=0.01;, score=0.872 total time= 4.0min\n",
      "[CV 1/3] END ......................C=1, gamma=1;, score=0.929 total time= 7.3min\n",
      "[CV 2/3] END ......................C=1, gamma=1;, score=0.929 total time= 7.2min\n",
      "[CV 3/3] END ......................C=1, gamma=1;, score=0.930 total time= 7.1min\n",
      "[CV 1/3] END .................C=10, gamma=0.001;, score=0.870 total time= 3.9min\n",
      "[CV 2/3] END .................C=10, gamma=0.001;, score=0.873 total time= 4.0min\n",
      "[CV 3/3] END .................C=10, gamma=0.001;, score=0.873 total time= 3.9min\n",
      "[CV 1/3] END ..................C=10, gamma=0.01;, score=0.928 total time= 2.7min\n",
      "[CV 2/3] END ..................C=10, gamma=0.01;, score=0.928 total time= 2.7min\n",
      "[CV 3/3] END ..................C=10, gamma=0.01;, score=0.930 total time= 2.7min\n",
      "[CV 1/3] END .....................C=10, gamma=1;, score=0.926 total time= 9.0min\n",
      "[CV 2/3] END .....................C=10, gamma=1;, score=0.927 total time= 9.0min\n",
      "[CV 3/3] END .....................C=10, gamma=1;, score=0.927 total time= 9.1min\n"
     ]
    }
   ],
   "source": [
    "SVC_point4 = run_grid_search(\n",
    "    est=svm.SVC(), \n",
    "    param_grid=grid,\n",
    "    scoring='roc_auc',\n",
    "    x_train=tfidf_train,\n",
    "    y_train=y_train,\n",
    "    thr=0.4\n",
    ")"
   ]
  },
  {
   "cell_type": "code",
   "execution_count": null,
   "metadata": {
    "id": "cD9FvZE78QBo"
   },
   "outputs": [],
   "source": [
    "SVC_point4.best_params_"
   ]
  },
  {
   "cell_type": "code",
   "execution_count": 18,
   "metadata": {
    "colab": {
     "base_uri": "https://localhost:8080/"
    },
    "id": "0ac148c8",
    "outputId": "8d724fe7-40b5-4f0f-c8f7-df23ee6a86b4"
   },
   "outputs": [
    {
     "name": "stdout",
     "output_type": "stream",
     "text": [
      "roc-auc on validation with 0.4 thr 0.8569\n",
      "roc-auc on validation with 0.5 thr 0.8550\n",
      "roc-auc on validation with 0.6 thr 0.6916\n"
     ]
    }
   ],
   "source": [
    "print(\"roc-auc on validation with 0.4 thr {:.4f}\".format(round(evaluate(SVC_point4, tfidf_val, binarize_target(y_val, 0.4)), 4)))\n",
    "print(\"roc-auc on validation with 0.5 thr {:.4f}\".format(round(evaluate(SVC_point5, tfidf_val, binarize_target(y_val, 0.5)), 4)))\n",
    "print(\"roc-auc on validation with 0.6 thr {:.4f}\".format(round(evaluate(SVC_point6, tfidf_val, binarize_target(y_val, 0.6)), 4)))"
   ]
  },
  {
   "cell_type": "markdown",
   "metadata": {
    "id": "JDknJwOApymZ"
   },
   "source": [
    "Модель с порогом 0.4 оказалась лучшей"
   ]
  },
  {
   "cell_type": "code",
   "execution_count": 37,
   "metadata": {
    "id": "gKkpIM_l8y6E"
   },
   "outputs": [],
   "source": [
    "grid = {\n",
    "    \"learning_rate\": [0.01, 0.05, 0.2],\n",
    "    \"max_depth\":[10,20],\n",
    "    }"
   ]
  },
  {
   "cell_type": "code",
   "execution_count": 38,
   "metadata": {
    "colab": {
     "base_uri": "https://localhost:8080/"
    },
    "id": "RMp8iCPl9GZH",
    "outputId": "d4b61e26-844d-4bba-ca1a-aca15ab02dca"
   },
   "outputs": [
    {
     "name": "stdout",
     "output_type": "stream",
     "text": [
      "Fitting 3 folds for each of 6 candidates, totalling 18 fits\n",
      "[CV 1/3] END ..learning_rate=0.01, max_depth=10;, score=0.784 total time=  59.5s\n",
      "[CV 2/3] END ..learning_rate=0.01, max_depth=10;, score=0.778 total time= 1.0min\n",
      "[CV 3/3] END ..learning_rate=0.01, max_depth=10;, score=0.783 total time= 1.0min\n",
      "[CV 1/3] END ..learning_rate=0.01, max_depth=20;, score=0.832 total time= 2.4min\n",
      "[CV 2/3] END ..learning_rate=0.01, max_depth=20;, score=0.828 total time= 2.4min\n",
      "[CV 3/3] END ..learning_rate=0.01, max_depth=20;, score=0.829 total time= 2.4min\n",
      "[CV 1/3] END ..learning_rate=0.05, max_depth=10;, score=0.886 total time=  58.8s\n",
      "[CV 2/3] END ..learning_rate=0.05, max_depth=10;, score=0.882 total time=  58.4s\n",
      "[CV 3/3] END ..learning_rate=0.05, max_depth=10;, score=0.887 total time=  58.5s\n",
      "[CV 1/3] END ..learning_rate=0.05, max_depth=20;, score=0.905 total time= 2.2min\n",
      "[CV 2/3] END ..learning_rate=0.05, max_depth=20;, score=0.900 total time= 2.3min\n",
      "[CV 3/3] END ..learning_rate=0.05, max_depth=20;, score=0.907 total time= 2.2min\n",
      "[CV 1/3] END ...learning_rate=0.2, max_depth=10;, score=0.919 total time=  56.9s\n",
      "[CV 2/3] END ...learning_rate=0.2, max_depth=10;, score=0.919 total time=  57.3s\n",
      "[CV 3/3] END ...learning_rate=0.2, max_depth=10;, score=0.920 total time=  56.0s\n",
      "[CV 1/3] END ...learning_rate=0.2, max_depth=20;, score=0.919 total time= 2.0min\n",
      "[CV 2/3] END ...learning_rate=0.2, max_depth=20;, score=0.920 total time= 2.0min\n",
      "[CV 3/3] END ...learning_rate=0.2, max_depth=20;, score=0.920 total time= 1.9min\n"
     ]
    }
   ],
   "source": [
    "GB_point5 = run_grid_search(\n",
    "    est=GradientBoostingClassifier(), \n",
    "    param_grid=grid,\n",
    "    scoring='roc_auc',\n",
    "    x_train=tfidf_train,\n",
    "    y_train=y_train,\n",
    "    thr=0.5\n",
    ")"
   ]
  },
  {
   "cell_type": "code",
   "execution_count": 40,
   "metadata": {
    "colab": {
     "base_uri": "https://localhost:8080/"
    },
    "id": "Er9R8NwF9OPC",
    "outputId": "f989aa0f-d9d8-41e7-df84-fe73e02d9d6f"
   },
   "outputs": [
    {
     "data": {
      "text/plain": [
       "{'learning_rate': 0.2, 'max_depth': 20}"
      ]
     },
     "execution_count": 40,
     "metadata": {},
     "output_type": "execute_result"
    }
   ],
   "source": [
    "GB_point5.best_params_"
   ]
  },
  {
   "cell_type": "code",
   "execution_count": 41,
   "metadata": {
    "colab": {
     "base_uri": "https://localhost:8080/"
    },
    "id": "jjX-1fdP9M7j",
    "outputId": "5385bbfb-60c4-4b6d-8e73-3d78742f4972"
   },
   "outputs": [
    {
     "name": "stdout",
     "output_type": "stream",
     "text": [
      "Fitting 3 folds for each of 6 candidates, totalling 18 fits\n",
      "[CV 1/3] END ..learning_rate=0.01, max_depth=10;, score=0.750 total time= 1.1min\n",
      "[CV 2/3] END ..learning_rate=0.01, max_depth=10;, score=0.750 total time= 1.1min\n",
      "[CV 3/3] END ..learning_rate=0.01, max_depth=10;, score=0.743 total time= 1.1min\n",
      "[CV 1/3] END ..learning_rate=0.01, max_depth=20;, score=0.774 total time= 2.7min\n",
      "[CV 2/3] END ..learning_rate=0.01, max_depth=20;, score=0.771 total time= 2.6min\n",
      "[CV 3/3] END ..learning_rate=0.01, max_depth=20;, score=0.775 total time= 2.6min\n",
      "[CV 1/3] END ..learning_rate=0.05, max_depth=10;, score=0.826 total time= 1.0min\n",
      "[CV 2/3] END ..learning_rate=0.05, max_depth=10;, score=0.821 total time=  59.8s\n",
      "[CV 3/3] END ..learning_rate=0.05, max_depth=10;, score=0.824 total time=  59.2s\n",
      "[CV 1/3] END ..learning_rate=0.05, max_depth=20;, score=0.827 total time= 2.2min\n",
      "[CV 2/3] END ..learning_rate=0.05, max_depth=20;, score=0.822 total time= 2.2min\n",
      "[CV 3/3] END ..learning_rate=0.05, max_depth=20;, score=0.826 total time= 2.2min\n",
      "[CV 1/3] END ...learning_rate=0.2, max_depth=10;, score=0.848 total time=  54.8s\n",
      "[CV 2/3] END ...learning_rate=0.2, max_depth=10;, score=0.841 total time=  54.5s\n",
      "[CV 3/3] END ...learning_rate=0.2, max_depth=10;, score=0.842 total time=  55.4s\n",
      "[CV 1/3] END ...learning_rate=0.2, max_depth=20;, score=0.825 total time= 1.9min\n",
      "[CV 2/3] END ...learning_rate=0.2, max_depth=20;, score=0.822 total time= 1.9min\n",
      "[CV 3/3] END ...learning_rate=0.2, max_depth=20;, score=0.827 total time= 1.9min\n"
     ]
    }
   ],
   "source": [
    "GB_point6 = run_grid_search(\n",
    "    est=GradientBoostingClassifier(), \n",
    "    param_grid=grid,\n",
    "    scoring='roc_auc',\n",
    "    x_train=tfidf_train,\n",
    "    y_train=y_train,\n",
    "    thr=0.6\n",
    ")"
   ]
  },
  {
   "cell_type": "code",
   "execution_count": 42,
   "metadata": {
    "colab": {
     "base_uri": "https://localhost:8080/"
    },
    "id": "nBdd6Po_9O0-",
    "outputId": "b6393710-ea63-4da5-e7a1-648c44bf7c25"
   },
   "outputs": [
    {
     "data": {
      "text/plain": [
       "{'learning_rate': 0.2, 'max_depth': 10}"
      ]
     },
     "execution_count": 42,
     "metadata": {},
     "output_type": "execute_result"
    }
   ],
   "source": [
    "GB_point6.best_params_"
   ]
  },
  {
   "cell_type": "code",
   "execution_count": 43,
   "metadata": {
    "colab": {
     "base_uri": "https://localhost:8080/"
    },
    "id": "a2o7eQVD9O3B",
    "outputId": "c6c899a2-c7a8-43e0-8c64-5184e9a70388"
   },
   "outputs": [
    {
     "name": "stdout",
     "output_type": "stream",
     "text": [
      "Fitting 3 folds for each of 6 candidates, totalling 18 fits\n",
      "[CV 1/3] END ..learning_rate=0.01, max_depth=10;, score=0.785 total time=  59.2s\n",
      "[CV 2/3] END ..learning_rate=0.01, max_depth=10;, score=0.778 total time=  59.7s\n",
      "[CV 3/3] END ..learning_rate=0.01, max_depth=10;, score=0.784 total time=  59.2s\n",
      "[CV 1/3] END ..learning_rate=0.01, max_depth=20;, score=0.833 total time= 2.3min\n",
      "[CV 2/3] END ..learning_rate=0.01, max_depth=20;, score=0.825 total time= 2.3min\n",
      "[CV 3/3] END ..learning_rate=0.01, max_depth=20;, score=0.828 total time= 2.3min\n",
      "[CV 1/3] END ..learning_rate=0.05, max_depth=10;, score=0.888 total time=  58.5s\n",
      "[CV 2/3] END ..learning_rate=0.05, max_depth=10;, score=0.882 total time=  57.9s\n",
      "[CV 3/3] END ..learning_rate=0.05, max_depth=10;, score=0.886 total time=  58.6s\n",
      "[CV 1/3] END ..learning_rate=0.05, max_depth=20;, score=0.906 total time= 2.3min\n",
      "[CV 2/3] END ..learning_rate=0.05, max_depth=20;, score=0.900 total time= 2.2min\n",
      "[CV 3/3] END ..learning_rate=0.05, max_depth=20;, score=0.908 total time= 2.2min\n",
      "[CV 1/3] END ...learning_rate=0.2, max_depth=10;, score=0.920 total time=  56.8s\n",
      "[CV 2/3] END ...learning_rate=0.2, max_depth=10;, score=0.920 total time=  57.7s\n",
      "[CV 3/3] END ...learning_rate=0.2, max_depth=10;, score=0.921 total time=  57.4s\n",
      "[CV 1/3] END ...learning_rate=0.2, max_depth=20;, score=0.919 total time= 2.0min\n",
      "[CV 2/3] END ...learning_rate=0.2, max_depth=20;, score=0.921 total time= 2.0min\n",
      "[CV 3/3] END ...learning_rate=0.2, max_depth=20;, score=0.922 total time= 2.0min\n"
     ]
    }
   ],
   "source": [
    "GB_point4 = run_grid_search(\n",
    "    est=GradientBoostingClassifier(), \n",
    "    param_grid=grid,\n",
    "    scoring='roc_auc',\n",
    "    x_train=tfidf_train,\n",
    "    y_train=y_train,\n",
    "    thr=0.4\n",
    ")"
   ]
  },
  {
   "cell_type": "code",
   "execution_count": 44,
   "metadata": {
    "colab": {
     "base_uri": "https://localhost:8080/"
    },
    "id": "CTyInCOg9Tki",
    "outputId": "7a54e1f6-cd48-49b3-fd12-0b0440da6087"
   },
   "outputs": [
    {
     "data": {
      "text/plain": [
       "{'learning_rate': 0.2, 'max_depth': 20}"
      ]
     },
     "execution_count": 44,
     "metadata": {},
     "output_type": "execute_result"
    }
   ],
   "source": [
    "GB_point4.best_params_"
   ]
  },
  {
   "cell_type": "code",
   "execution_count": 45,
   "metadata": {
    "colab": {
     "base_uri": "https://localhost:8080/"
    },
    "id": "IH2Vv0t_tv3c",
    "outputId": "540ba1ec-a518-44c6-f4d0-eb9b24b80b7f"
   },
   "outputs": [
    {
     "name": "stdout",
     "output_type": "stream",
     "text": [
      "roc-auc on validation with 0.4 thr 0.8602\n",
      "roc-auc on validation with 0.5 thr 0.8590\n",
      "roc-auc on validation with 0.6 thr 0.7310\n"
     ]
    }
   ],
   "source": [
    "print(\"roc-auc on validation with 0.4 thr {:.4f}\".format(round(evaluate(GB_point4, tfidf_val, binarize_target(y_val, 0.4)), 4)))\n",
    "print(\"roc-auc on validation with 0.5 thr {:.4f}\".format(round(evaluate(GB_point5, tfidf_val, binarize_target(y_val, 0.5)), 4)))\n",
    "print(\"roc-auc on validation with 0.6 thr {:.4f}\".format(round(evaluate(GB_point6, tfidf_val, binarize_target(y_val, 0.6)), 4)))"
   ]
  },
  {
   "cell_type": "code",
   "execution_count": 56,
   "metadata": {
    "id": "PZTQdDOAEmqj"
   },
   "outputs": [],
   "source": [
    "word2idx = tfidfvectorizer.vocabulary_\n",
    "idx2word = [\"\"] * len(word2idx)\n",
    "\n",
    "for word in word2idx:\n",
    "    idx2word[word2idx[word]] = word\n",
    "idx2word = np.array(idx2word, dtype='object')"
   ]
  },
  {
   "cell_type": "code",
   "execution_count": 82,
   "metadata": {
    "id": "bBsOWBfspuQe"
   },
   "outputs": [],
   "source": [
    "val_features_small_id = np.argsort(GB_point4.best_estimator_.feature_importances_)[-20:]\n",
    "small_importance = GB_point4.best_estimator_.feature_importances_[val_features_small_id]\n",
    "min_words = idx2word[val_features_small_id]"
   ]
  },
  {
   "cell_type": "code",
   "execution_count": 78,
   "metadata": {
    "colab": {
     "base_uri": "https://localhost:8080/"
    },
    "id": "Xhurjpn_EyTJ",
    "outputId": "9bcd0930-cd6a-4031-e423-facd7f806f1f"
   },
   "outputs": [
    {
     "data": {
      "text/plain": [
       "array([0.        , 0.        , 0.        , ..., 0.0217896 , 0.0387285 ,\n",
       "       0.06659258])"
      ]
     },
     "execution_count": 78,
     "metadata": {},
     "output_type": "execute_result"
    }
   ],
   "source": [
    "GB_point4.best_estimator_.feature_importances_[np.argsort(GB_point4.best_estimator_.feature_importances_)]"
   ]
  },
  {
   "cell_type": "code",
   "execution_count": 84,
   "metadata": {
    "colab": {
     "base_uri": "https://localhost:8080/",
     "height": 472
    },
    "id": "11_hayKnpv2R",
    "outputId": "d3db9db3-8465-4a67-dc1f-d536c92c2b16"
   },
   "outputs": [
    {
     "data": {
      "image/png": "[encoded data removed]",
      "text/plain": [
       "<Figure size 640x480 with 1 Axes>"
      ]
     },
     "metadata": {},
     "output_type": "display_data"
    }
   ],
   "source": [
    "plt.barh(min_words, small_importance)\n",
    "plt.xlabel('importance')\n",
    "plt.ylabel('word')\n",
    "plt.title('top 20 most important words')\n",
    "plt.show()"
   ]
  },
  {
   "cell_type": "code",
   "execution_count": 7,
   "metadata": {
    "colab": {
     "base_uri": "https://localhost:8080/"
    },
    "id": "axK338jQOnH5",
    "outputId": "4b110abc-b65f-45e4-a269-ef4b08b44efc"
   },
   "outputs": [
    {
     "name": "stdout",
     "output_type": "stream",
     "text": [
      "3min 6s ± 5.4 s per loop (mean ± std. dev. of 7 runs, 1 loop each)\n"
     ]
    }
   ],
   "source": [
    "%%timeit\n",
    "\n",
    "model = GradientBoostingClassifier(learning_rate=0.2, max_depth=20).fit(tfidf_train, y_train_bin)"
   ]
  },
  {
   "cell_type": "code",
   "execution_count": 11,
   "metadata": {
    "id": "SSGPAYvVWDGP"
   },
   "outputs": [],
   "source": [
    "model = GradientBoostingClassifier(learning_rate=0.2, max_depth=20).fit(tfidf_train, y_train_bin)"
   ]
  },
  {
   "cell_type": "code",
   "execution_count": 13,
   "metadata": {
    "colab": {
     "base_uri": "https://localhost:8080/"
    },
    "id": "UKMHvbTfP4Np",
    "outputId": "644b878b-c7c6-4d97-8e3a-0d8773ca4f63"
   },
   "outputs": [
    {
     "name": "stdout",
     "output_type": "stream",
     "text": [
      "The slowest run took 5.31 times longer than the fastest. This could mean that an intermediate result is being cached.\n",
      "361 ms ± 255 ms per loop (mean ± std. dev. of 7 runs, 1 loop each)\n"
     ]
    }
   ],
   "source": [
    "%%timeit\n",
    "\n",
    "model.predict(tfidf_test)"
   ]
  },
  {
   "cell_type": "code",
   "execution_count": 7,
   "metadata": {
    "id": "h-F6PDXzWFNS"
   },
   "outputs": [],
   "source": [
    "model = svm.SVC(C=1, gamma=1).fit(tfidf_train, y_train_bin)"
   ]
  },
  {
   "cell_type": "code",
   "execution_count": 8,
   "metadata": {
    "colab": {
     "base_uri": "https://localhost:8080/"
    },
    "id": "EPCrggwBSyjg",
    "outputId": "9cc0e195-f71a-4471-ed15-8ca3343db914"
   },
   "outputs": [
    {
     "name": "stdout",
     "output_type": "stream",
     "text": [
      "1min 32s ± 399 ms per loop (mean ± std. dev. of 7 runs, 1 loop each)\n"
     ]
    }
   ],
   "source": [
    "%%timeit\n",
    "\n",
    "model.predict(tfidf_test)"
   ]
  },
  {
   "cell_type": "code",
   "execution_count": null,
   "metadata": {},
   "outputs": [],
   "source": []
  }
 ],
 "metadata": {
  "accelerator": "GPU",
  "colab": {
   "gpuType": "T4",
   "provenance": []
  },
  "kernelspec": {
   "display_name": "Python 3 (ipykernel)",
   "language": "python",
   "name": "python3"
  },
  "language_info": {
   "codemirror_mode": {
    "name": "ipython",
    "version": 3
   },
   "file_extension": ".py",
   "mimetype": "text/x-python",
   "name": "python",
   "nbconvert_exporter": "python",
   "pygments_lexer": "ipython3",
   "version": "3.8.5"
  }
 },
 "nbformat": 4,
 "nbformat_minor": 1
}
