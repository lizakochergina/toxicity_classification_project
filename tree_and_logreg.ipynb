{
 "cells": [
  {
   "cell_type": "code",
   "execution_count": 84,
   "metadata": {
    "id": "iQcvPN9CwThm"
   },
   "outputs": [],
   "source": [
    "import pandas as pd\n",
    "import numpy as np\n",
    "\n",
    "%matplotlib inline\n",
    "import matplotlib.pyplot as plt\n",
    "import seaborn as sns\n",
    "sns.set_style('darkgrid')\n",
    "\n",
    "from sklearn.model_selection import train_test_split\n",
    "from sklearn.linear_model import LogisticRegression\n",
    "from sklearn.feature_extraction.text import TfidfVectorizer\n",
    "from sklearn.feature_extraction.text import CountVectorizer\n",
    "import nltk\n",
    "from nltk.corpus import stopwords\n",
    "from nltk.tokenize import word_tokenize\n",
    "from nltk.stem import WordNetLemmatizer\n",
    "from sklearn.metrics import roc_auc_score\n",
    "from sklearn.metrics import accuracy_score\n",
    "from sklearn.metrics import confusion_matrix\n",
    "from sklearn.ensemble import RandomForestClassifier\n",
    "from sklearn.model_selection import GridSearchCV\n",
    "from sklearn.tree import DecisionTreeClassifier\n"
   ]
  },
  {
   "cell_type": "code",
   "execution_count": 85,
   "metadata": {
    "id": "EZUTyRIIAwQ3"
   },
   "outputs": [],
   "source": [
    "X_train = pd.read_csv('train.csv')\n",
    "X_val = pd.read_csv('val.csv')\n",
    "X_test = pd.read_csv('test.csv')\n",
    "\n",
    "X_train.drop(index=X_train[X_train['text'].isna()].index, inplace=True)\n",
    "X_val.drop(index=X_val[X_val['text'].isna()].index, inplace=True)\n",
    "X_test.drop(index=X_test[X_test['text'].isna()].index, inplace=True)\n",
    "\n",
    "y_train = X_train.target\n",
    "y_val = X_val.target\n",
    "y_test = X_test.target"
   ]
  },
  {
   "cell_type": "code",
   "execution_count": 86,
   "metadata": {
    "id": "IuHeqlCWAwXe"
   },
   "outputs": [],
   "source": [
    "my_stop_words = ['wa', 'would', 'ha', 'one', 'get']\n",
    "tfidfvectorizer = TfidfVectorizer(min_df = 0.001, ngram_range=(1, 2), stop_words=my_stop_words)\n",
    "tfidf_train = tfidfvectorizer.fit_transform(X_train.text)\n",
    "tfidf_val = tfidfvectorizer.transform(X_val.text)\n",
    "tfidf_test = tfidfvectorizer.transform(X_test.text)"
   ]
  },
  {
   "cell_type": "code",
   "execution_count": 87,
   "metadata": {
    "id": "HwUsbLVYAwal"
   },
   "outputs": [],
   "source": [
    "word2idx = tfidfvectorizer.vocabulary_\n",
    "idx2word = [\"\"] * len(word2idx)\n",
    "\n",
    "for word in word2idx:\n",
    "    idx2word[word2idx[word]] = word\n",
    "idx2word = np.array(idx2word, dtype='object')"
   ]
  },
  {
   "cell_type": "code",
   "execution_count": 45,
   "metadata": {
    "id": "s_j_rUvdAwd1"
   },
   "outputs": [],
   "source": [
    "grid = {\n",
    "    'max_depth': [5, 10, 50, 100, 200, 300, 350, 360, 370, 375, 400, 450, 500, 550, 600],\n",
    "    'min_samples_leaf': [1, 3, 5, 7],\n",
    "    'max_features': ['sqrt', 'log2'],\n",
    "    'class_weight': [None, 'balanced']\n",
    "}"
   ]
  },
  {
   "cell_type": "code",
   "execution_count": 46,
   "metadata": {
    "id": "LZdscCecAwhI"
   },
   "outputs": [],
   "source": [
    "def binarize_target(target, thr):\n",
    "    return (target > thr).astype(int)\n",
    "\n",
    "\n",
    "def run_grid_search(est, param_grid, scoring, x_train, y_train, thr):\n",
    "    y_train_bin = binarize_target(y_train, thr)\n",
    "    model = GridSearchCV(estimator=est, param_grid=param_grid, scoring=scoring, cv=3, verbose=3)\n",
    "    model.fit(x_train, y_train_bin)\n",
    "    return model\n",
    "\n",
    "def evaluate(model, tfidf_x, y_bin):\n",
    "    return roc_auc_score(y_bin, model.predict_proba(tfidf_x)[:,1])"
   ]
  },
  {
   "cell_type": "code",
   "execution_count": null,
   "metadata": {},
   "outputs": [],
   "source": [
    "tree05 = run_grid_search(\n",
    "    est=DecisionTreeClassifier(random_state = 42), \n",
    "    param_grid=grid,\n",
    "    scoring='roc_auc',\n",
    "    x_train=tfidf_train,\n",
    "    y_train=y_train,\n",
    "    thr=0.5\n",
    ")"
   ]
  },
  {
   "cell_type": "code",
   "execution_count": 48,
   "metadata": {
    "colab": {
     "base_uri": "https://localhost:8080/"
    },
    "id": "hbJO9jP1AwnG",
    "outputId": "ce50e2c1-a705-4e92-b27e-d95feab9bada"
   },
   "outputs": [
    {
     "data": {
      "text/plain": [
       "{'class_weight': 'balanced',\n",
       " 'max_depth': 370,\n",
       " 'max_features': 'sqrt',\n",
       " 'min_samples_leaf': 7}"
      ]
     },
     "execution_count": 48,
     "metadata": {},
     "output_type": "execute_result"
    }
   ],
   "source": [
    "tree05.best_params_"
   ]
  },
  {
   "cell_type": "code",
   "execution_count": null,
   "metadata": {},
   "outputs": [],
   "source": [
    "tree04 = run_grid_search(\n",
    "    est=DecisionTreeClassifier(random_state = 42), \n",
    "    param_grid=grid,\n",
    "    scoring='roc_auc',\n",
    "    x_train=tfidf_train,\n",
    "    y_train=y_train,\n",
    "    thr=0.4\n",
    ")"
   ]
  },
  {
   "cell_type": "code",
   "execution_count": 61,
   "metadata": {
    "colab": {
     "base_uri": "https://localhost:8080/"
    },
    "id": "ujNp8JMdBCYa",
    "outputId": "b1a29cc7-0cf9-4fb2-98e2-756c5f5df36c"
   },
   "outputs": [
    {
     "data": {
      "text/plain": [
       "{'class_weight': 'balanced',\n",
       " 'max_depth': 370,\n",
       " 'max_features': 'sqrt',\n",
       " 'min_samples_leaf': 7}"
      ]
     },
     "execution_count": 61,
     "metadata": {},
     "output_type": "execute_result"
    }
   ],
   "source": [
    "tree04.best_params_"
   ]
  },
  {
   "cell_type": "code",
   "execution_count": null,
   "metadata": {},
   "outputs": [],
   "source": [
    "tree06 = run_grid_search(\n",
    "    est=DecisionTreeClassifier(random_state = 42), \n",
    "    param_grid=grid,\n",
    "    scoring='roc_auc',\n",
    "    x_train=tfidf_train,\n",
    "    y_train=y_train,\n",
    "    thr=0.6\n",
    ")"
   ]
  },
  {
   "cell_type": "code",
   "execution_count": 63,
   "metadata": {
    "colab": {
     "base_uri": "https://localhost:8080/"
    },
    "id": "-E9Cgjx4BCiO",
    "outputId": "bc3016c7-8a7f-4b7b-ec5c-dfe6c28b706a"
   },
   "outputs": [
    {
     "data": {
      "text/plain": [
       "{'class_weight': None,\n",
       " 'max_depth': 370,\n",
       " 'max_features': 'sqrt',\n",
       " 'min_samples_leaf': 7}"
      ]
     },
     "execution_count": 63,
     "metadata": {},
     "output_type": "execute_result"
    }
   ],
   "source": [
    "tree06.best_params_"
   ]
  },
  {
   "cell_type": "code",
   "execution_count": 64,
   "metadata": {
    "colab": {
     "base_uri": "https://localhost:8080/"
    },
    "id": "VMW5qixmBClD",
    "outputId": "5b60eec6-88f8-4ddf-92f3-cb02eb2702c9"
   },
   "outputs": [
    {
     "name": "stdout",
     "output_type": "stream",
     "text": [
      "roc-auc on validation with 0.4 thr 0.8505\n",
      "roc-auc on validation with 0.5 thr 0.8524\n",
      "roc-auc on validation with 0.6 thr 0.7896\n"
     ]
    }
   ],
   "source": [
    "print(\"roc-auc on validation with 0.4 thr {:.4f}\".format(round(evaluate(tree04, tfidf_val, binarize_target(y_val, 0.4)), 4)))\n",
    "print(\"roc-auc on validation with 0.5 thr {:.4f}\".format(round(evaluate(tree05, tfidf_val, binarize_target(y_val, 0.5)), 4)))\n",
    "print(\"roc-auc on validation with 0.6 thr {:.4f}\".format(round(evaluate(tree06, tfidf_val, binarize_target(y_val, 0.6)), 4)))"
   ]
  },
  {
   "cell_type": "markdown",
   "metadata": {
    "id": "_QQdoG2kSkbY"
   },
   "source": [
    "Результаты при порогах 0.4 и 0.5 очень схожи, на 0.002 значение лучше при 0.5"
   ]
  },
  {
   "cell_type": "code",
   "execution_count": 75,
   "metadata": {
    "id": "u0idViGnBCph"
   },
   "outputs": [],
   "source": [
    "val_features_id = np.argsort(tree05.best_estimator_.feature_importances_)[-20:][::-1]\n",
    "importance = tree05.best_estimator_.feature_importances_[val_features_id]\n",
    "top_words = idx2word[val_features_id]"
   ]
  },
  {
   "cell_type": "code",
   "execution_count": 74,
   "metadata": {
    "colab": {
     "base_uri": "https://localhost:8080/"
    },
    "id": "SIVxswUNqjcP",
    "outputId": "c0449bec-8611-42a1-c015-045abc3f1d4b"
   },
   "outputs": [
    {
     "data": {
      "text/plain": [
       "array(['damn', 'racist', 'troll', 'garbage', 'ridiculous', 'white',\n",
       "       'clown', 'black', 'moron', 'liar', 'dumb', 'stupidity',\n",
       "       'hypocrite', 'crap', 'loser', 'pathetic', 'ignorant', 'fool',\n",
       "       'idiot', 'stupid'], dtype=object)"
      ]
     },
     "execution_count": 74,
     "metadata": {},
     "output_type": "execute_result"
    }
   ],
   "source": [
    "top_words"
   ]
  },
  {
   "cell_type": "code",
   "execution_count": 93,
   "metadata": {
    "colab": {
     "base_uri": "https://localhost:8080/",
     "height": 472
    },
    "id": "oshaqJL0BCtX",
    "outputId": "e1a468bc-b094-447e-de3b-d130e5f162ab"
   },
   "outputs": [
    {
     "data": {
      "image/png": "[encoded data removed]",
      "text/plain": [
       "<Figure size 640x480 with 1 Axes>"
      ]
     },
     "metadata": {},
     "output_type": "display_data"
    }
   ],
   "source": [
    "plt.barh(top_words[::-1], importance[::-1])\n",
    "plt.xlabel('feature importance')\n",
    "plt.ylabel('feature name')\n",
    "plt.title('top 20 most important features for decision tree')\n",
    "plt.show()"
   ]
  },
  {
   "cell_type": "code",
   "execution_count": 64,
   "metadata": {
    "id": "ah3c7oJlBC2R"
   },
   "outputs": [],
   "source": [
    "gridlog = {\n",
    "    'penalty': ['l1', 'l2'], \n",
    "    'C': np.logspace(-3,3,7), \n",
    "\n",
    "}"
   ]
  },
  {
   "cell_type": "code",
   "execution_count": 65,
   "metadata": {
    "id": "ajjiN-IdAkiI"
   },
   "outputs": [],
   "source": [
    "def binarize_target(target, thr):\n",
    "    return (target > thr).astype(int)\n",
    "\n",
    "\n",
    "def run_grid_search(est, param_grid, scoring, x_train, y_train, thr):\n",
    "    y_train_bin = binarize_target(y_train, thr)\n",
    "    model = GridSearchCV(estimator=est, param_grid=param_grid, scoring=scoring, cv=3, verbose=3)\n",
    "    model.fit(x_train, y_train_bin)\n",
    "    return model\n",
    "\n",
    "def evaluate(model, tfidf_x, y_bin):\n",
    "    return roc_auc_score(y_bin, model.predict_proba(tfidf_x)[:,1])"
   ]
  },
  {
   "cell_type": "code",
   "execution_count": null,
   "metadata": {},
   "outputs": [],
   "source": [
    "logreg04 = run_grid_search(\n",
    "    est= LogisticRegression(), \n",
    "    param_grid=gridlog,\n",
    "    scoring='roc_auc',\n",
    "    x_train=tfidf_train,\n",
    "    y_train=y_train,\n",
    "    thr=0.4\n",
    ")"
   ]
  },
  {
   "cell_type": "code",
   "execution_count": 67,
   "metadata": {
    "colab": {
     "base_uri": "https://localhost:8080/"
    },
    "id": "mH8RGrSsGJO9",
    "outputId": "c3668097-ce7a-4968-fe8a-0043ec16cca1"
   },
   "outputs": [
    {
     "data": {
      "text/plain": [
       "{'C': 1.0, 'penalty': 'l2'}"
      ]
     },
     "execution_count": 67,
     "metadata": {},
     "output_type": "execute_result"
    }
   ],
   "source": [
    "logreg04.best_params_"
   ]
  },
  {
   "cell_type": "code",
   "execution_count": null,
   "metadata": {},
   "outputs": [],
   "source": [
    "logreg05 = run_grid_search(\n",
    "    est= LogisticRegression(), \n",
    "    param_grid=gridlog,\n",
    "    scoring='roc_auc',\n",
    "    x_train=tfidf_train,\n",
    "    y_train=y_train,\n",
    "    thr=0.5\n",
    ")"
   ]
  },
  {
   "cell_type": "code",
   "execution_count": 21,
   "metadata": {
    "colab": {
     "base_uri": "https://localhost:8080/"
    },
    "id": "iPAWZWM0GJW_",
    "outputId": "1dbce80d-0246-40e9-eb87-f167600a9ce0"
   },
   "outputs": [
    {
     "data": {
      "text/plain": [
       "{'C': 1.0, 'penalty': 'l2'}"
      ]
     },
     "execution_count": 21,
     "metadata": {},
     "output_type": "execute_result"
    }
   ],
   "source": [
    "logreg05.best_params_"
   ]
  },
  {
   "cell_type": "code",
   "execution_count": null,
   "metadata": {},
   "outputs": [],
   "source": [
    "logreg06 = run_grid_search(\n",
    "    est= LogisticRegression(), \n",
    "    param_grid=gridlog,\n",
    "    scoring='roc_auc',\n",
    "    x_train=tfidf_train,\n",
    "    y_train=y_train,\n",
    "    thr=0.6\n",
    ")"
   ]
  },
  {
   "cell_type": "code",
   "execution_count": 23,
   "metadata": {
    "colab": {
     "base_uri": "https://localhost:8080/"
    },
    "id": "jGpMORQ0_RdQ",
    "outputId": "3333e99f-86ff-4edc-f70f-962156e99879"
   },
   "outputs": [
    {
     "data": {
      "text/plain": [
       "{'C': 1.0, 'penalty': 'l2'}"
      ]
     },
     "execution_count": 23,
     "metadata": {},
     "output_type": "execute_result"
    }
   ],
   "source": [
    "logreg06.best_params_"
   ]
  },
  {
   "cell_type": "code",
   "execution_count": 24,
   "metadata": {
    "colab": {
     "base_uri": "https://localhost:8080/"
    },
    "id": "MKhoXSUm_Ri1",
    "outputId": "cc05748f-ab4a-416c-bd67-b27b1be21eb2"
   },
   "outputs": [
    {
     "name": "stdout",
     "output_type": "stream",
     "text": [
      "roc-auc on validation with 0.4 thr 0.9317\n",
      "roc-auc on validation with 0.5 thr 0.9306\n",
      "roc-auc on validation with 0.6 thr 0.8686\n"
     ]
    }
   ],
   "source": [
    "print(\"roc-auc on validation with 0.4 thr {:.4f}\".format(round(evaluate(logreg04, tfidf_val, binarize_target(y_val, 0.4)), 4)))\n",
    "print(\"roc-auc on validation with 0.5 thr {:.4f}\".format(round(evaluate(logreg05, tfidf_val, binarize_target(y_val, 0.5)), 4)))\n",
    "print(\"roc-auc on validation with 0.6 thr {:.4f}\".format(round(evaluate(logreg06, tfidf_val, binarize_target(y_val, 0.6)), 4)))"
   ]
  },
  {
   "cell_type": "markdown",
   "metadata": {
    "id": "wrBX_5eDTO67"
   },
   "source": [
    "Результаты при порогах 0.4 и 0.5 схожи, на 0.001 значение лучше при 0.4"
   ]
  },
  {
   "cell_type": "code",
   "execution_count": 78,
   "metadata": {
    "colab": {
     "base_uri": "https://localhost:8080/"
    },
    "id": "7GVj03ndgBSM",
    "outputId": "3f4afe9d-e699-4fd7-ec2c-57750c1cde27"
   },
   "outputs": [
    {
     "data": {
      "text/plain": [
       "array(['stupid', 'idiot', 'pathetic', 'fool', 'ignorant', 'stupidity',\n",
       "       'crap', 'dumb', 'hypocrite', 'ridiculous', 'moron', 'loser',\n",
       "       'idiotic', 'liar', 'clown', 'damn', 'silly', 'garbage', 'suck',\n",
       "       'disgusting'], dtype=object)"
      ]
     },
     "execution_count": 78,
     "metadata": {},
     "output_type": "execute_result"
    }
   ],
   "source": [
    "val_features_id_logreg = np.argsort(logreg04.best_estimator_.coef_[0])[-20:][::-1]\n",
    "importance = logreg04.best_estimator_.coef_[0][val_features_id_logreg]\n",
    "top_words = idx2word[val_features_id_logreg]\n",
    "top_words"
   ]
  },
  {
   "cell_type": "code",
   "execution_count": 94,
   "metadata": {
    "colab": {
     "base_uri": "https://localhost:8080/",
     "height": 472
    },
    "id": "HguntDuarz4Y",
    "outputId": "06105c4d-e13e-4360-d7ec-f7c87e9165f0"
   },
   "outputs": [
    {
     "data": {
      "image/png": "[encoded data removed]",
      "text/plain": [
       "<Figure size 640x480 with 1 Axes>"
      ]
     },
     "metadata": {},
     "output_type": "display_data"
    }
   ],
   "source": [
    "plt.barh(top_words[::-1], importance[::-1])\n",
    "plt.xlabel('feature importance')\n",
    "plt.ylabel('feature name')\n",
    "plt.title('top 20 most important features for logreg')\n",
    "plt.show()"
   ]
  },
  {
   "cell_type": "code",
   "execution_count": 88,
   "metadata": {
    "id": "PF4MW1ucHQXe"
   },
   "outputs": [],
   "source": [
    "thr = 0.4\n",
    "y_train_bin = binarize_target(y_train, thr)\n",
    "y_val_bin = binarize_target(y_val, thr)\n",
    "y_test_bin = binarize_target(y_test, thr)"
   ]
  },
  {
   "cell_type": "code",
   "execution_count": 26,
   "metadata": {
    "colab": {
     "base_uri": "https://localhost:8080/"
    },
    "id": "V9hyNX0oHQaC",
    "outputId": "e13ae5e1-198b-4578-f6ad-5c6a0ce0c31e"
   },
   "outputs": [
    {
     "name": "stdout",
     "output_type": "stream",
     "text": [
      "203 ms ± 7.46 ms per loop (mean ± std. dev. of 5 runs, 3 loops each)\n"
     ]
    }
   ],
   "source": [
    "%%timeit -n 3 -r 5\n",
    "best_rfc = DecisionTreeClassifier(max_depth = 200, class_weight='balanced', max_features = 'sqrt',\n",
    " min_samples_leaf= 7).fit(tfidf_train, y_train_bin)"
   ]
  },
  {
   "cell_type": "code",
   "execution_count": 27,
   "metadata": {
    "id": "5x_VOGIFIr5R"
   },
   "outputs": [],
   "source": [
    "best_rfc = DecisionTreeClassifier(max_depth = 200, class_weight='balanced', max_features = 'sqrt',\n",
    " min_samples_leaf= 7).fit(tfidf_train, y_train_bin)"
   ]
  },
  {
   "cell_type": "code",
   "execution_count": 28,
   "metadata": {
    "colab": {
     "base_uri": "https://localhost:8080/"
    },
    "id": "7AngsL2NHQda",
    "outputId": "788bd654-2fef-4c4e-8d82-cf9d06cfbf6a"
   },
   "outputs": [
    {
     "name": "stdout",
     "output_type": "stream",
     "text": [
      "14.6 ms ± 895 µs per loop (mean ± std. dev. of 7 runs, 100 loops each)\n"
     ]
    }
   ],
   "source": [
    "%%timeit \n",
    "best_rfc.predict_proba(tfidf_train)"
   ]
  },
  {
   "cell_type": "code",
   "execution_count": 89,
   "metadata": {
    "colab": {
     "base_uri": "https://localhost:8080/"
    },
    "id": "CSd-ff4vuP6B",
    "outputId": "4dd7eb60-4558-4156-ff24-557c1df02dd3"
   },
   "outputs": [
    {
     "name": "stdout",
     "output_type": "stream",
     "text": [
      "363 ms ± 93.2 ms per loop (mean ± std. dev. of 5 runs, 3 loops each)\n"
     ]
    }
   ],
   "source": [
    "%%timeit -n 3 -r 5\n",
    "best_rfc = LogisticRegression(C= 1.0, penalty = 'l2').fit(tfidf_train, y_train_bin)"
   ]
  },
  {
   "cell_type": "code",
   "execution_count": 90,
   "metadata": {
    "id": "j71cqr2TuP8k"
   },
   "outputs": [],
   "source": [
    "best_rfc = LogisticRegression(C= 1.0, penalty = 'l2').fit(tfidf_train, y_train_bin)"
   ]
  },
  {
   "cell_type": "code",
   "execution_count": 91,
   "metadata": {
    "colab": {
     "base_uri": "https://localhost:8080/"
    },
    "id": "8V24ieN1uP_3",
    "outputId": "4013d9c5-daba-45a7-d976-b6bfbc3b2536"
   },
   "outputs": [
    {
     "name": "stdout",
     "output_type": "stream",
     "text": [
      "2.12 ms ± 69.6 µs per loop (mean ± std. dev. of 7 runs, 100 loops each)\n"
     ]
    }
   ],
   "source": [
    "%%timeit \n",
    "best_rfc.predict_proba(tfidf_train)"
   ]
  },
  {
   "cell_type": "markdown",
   "metadata": {
    "id": "h0TslSIXMR19"
   },
   "source": [
    "Наилучший результат показала логистическая регрессия, roc-auc равен 0,9317"
   ]
  }
 ],
 "metadata": {
  "colab": {
   "provenance": []
  },
  "kernelspec": {
   "display_name": "Python 3 (ipykernel)",
   "language": "python",
   "name": "python3"
  },
  "language_info": {
   "codemirror_mode": {
    "name": "ipython",
    "version": 3
   },
   "file_extension": ".py",
   "mimetype": "text/x-python",
   "name": "python",
   "nbconvert_exporter": "python",
   "pygments_lexer": "ipython3",
   "version": "3.8.5"
  }
 },
 "nbformat": 4,
 "nbformat_minor": 1
}
